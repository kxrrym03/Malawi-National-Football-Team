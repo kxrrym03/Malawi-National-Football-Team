{
 "cells": [
  {
   "cell_type": "code",
   "execution_count": 3,
   "id": "8a2b700a-a766-4f53-83ee-e8a8bda69e22",
   "metadata": {},
   "outputs": [
    {
     "name": "stdout",
     "output_type": "stream",
     "text": [
      "         Date           Opponent  Team Score  Opponent Score Result    Venue  \\\n",
      "0       ~1957  Northern Rhodesia         0.0             5.0   Loss  Unknown   \n",
      "1       ~1962              Ghana         0.0            12.0   Loss  Unknown   \n",
      "2       ~1968           Botswana         8.0             1.0    Win  Unknown   \n",
      "3  02/06/1996       South Africa         0.0             3.0   Loss     Away   \n",
      "4  07/07/1996             Zambia         1.0             1.0   Draw     Home   \n",
      "\n",
      "                      Competition  \n",
      "0  Friendly (First International)  \n",
      "1                        Friendly  \n",
      "2                        Friendly  \n",
      "3             World Cup Qualifier  \n",
      "4                        Friendly  \n"
     ]
    },
    {
     "data": {
      "text/plain": [
       "(73, 7)"
      ]
     },
     "execution_count": 3,
     "metadata": {},
     "output_type": "execute_result"
    }
   ],
   "source": [
    "import numpy as np\n",
    "import pandas as pd\n",
    "import matplotlib.pyplot as plt\n",
    "import seaborn as sns\n",
    "\n",
    "data = pd.read_csv(r'C:\\Users\\Kerry\\Dataset_Malawi_National_Football_Team_Matches.csv')\n",
    "print(data.head())\n",
    "data.shape"
   ]
  },
  {
   "cell_type": "code",
   "execution_count": 4,
   "id": "8e815c24-e0e1-408d-a8b9-a11f807e7d32",
   "metadata": {},
   "outputs": [
    {
     "data": {
      "text/plain": [
       "Date              0\n",
       "Opponent          0\n",
       "Team Score        1\n",
       "Opponent Score    1\n",
       "Result            0\n",
       "Venue             0\n",
       "Competition       0\n",
       "dtype: int64"
      ]
     },
     "execution_count": 4,
     "metadata": {},
     "output_type": "execute_result"
    }
   ],
   "source": [
    "data.isnull().sum()"
   ]
  },
  {
   "cell_type": "code",
   "execution_count": 5,
   "id": "6d1c597d-5f69-4ba4-b9ec-4e0631d4db2f",
   "metadata": {},
   "outputs": [
    {
     "data": {
      "text/plain": [
       "0"
      ]
     },
     "execution_count": 5,
     "metadata": {},
     "output_type": "execute_result"
    }
   ],
   "source": [
    "data.duplicated().sum()"
   ]
  },
  {
   "cell_type": "code",
   "execution_count": 6,
   "id": "46c0da22-8e67-438e-83cf-cd6056bed55c",
   "metadata": {},
   "outputs": [
    {
     "data": {
      "text/html": [
       "<div>\n",
       "<style scoped>\n",
       "    .dataframe tbody tr th:only-of-type {\n",
       "        vertical-align: middle;\n",
       "    }\n",
       "\n",
       "    .dataframe tbody tr th {\n",
       "        vertical-align: top;\n",
       "    }\n",
       "\n",
       "    .dataframe thead th {\n",
       "        text-align: right;\n",
       "    }\n",
       "</style>\n",
       "<table border=\"1\" class=\"dataframe\">\n",
       "  <thead>\n",
       "    <tr style=\"text-align: right;\">\n",
       "      <th></th>\n",
       "      <th>Team Score</th>\n",
       "      <th>Opponent Score</th>\n",
       "    </tr>\n",
       "  </thead>\n",
       "  <tbody>\n",
       "    <tr>\n",
       "      <th>count</th>\n",
       "      <td>72.000000</td>\n",
       "      <td>72.000000</td>\n",
       "    </tr>\n",
       "    <tr>\n",
       "      <th>mean</th>\n",
       "      <td>0.833333</td>\n",
       "      <td>1.569444</td>\n",
       "    </tr>\n",
       "    <tr>\n",
       "      <th>std</th>\n",
       "      <td>1.342690</td>\n",
       "      <td>1.758892</td>\n",
       "    </tr>\n",
       "    <tr>\n",
       "      <th>min</th>\n",
       "      <td>0.000000</td>\n",
       "      <td>0.000000</td>\n",
       "    </tr>\n",
       "    <tr>\n",
       "      <th>25%</th>\n",
       "      <td>0.000000</td>\n",
       "      <td>0.000000</td>\n",
       "    </tr>\n",
       "    <tr>\n",
       "      <th>50%</th>\n",
       "      <td>0.000000</td>\n",
       "      <td>1.000000</td>\n",
       "    </tr>\n",
       "    <tr>\n",
       "      <th>75%</th>\n",
       "      <td>1.000000</td>\n",
       "      <td>2.000000</td>\n",
       "    </tr>\n",
       "    <tr>\n",
       "      <th>max</th>\n",
       "      <td>8.000000</td>\n",
       "      <td>12.000000</td>\n",
       "    </tr>\n",
       "  </tbody>\n",
       "</table>\n",
       "</div>"
      ],
      "text/plain": [
       "       Team Score  Opponent Score\n",
       "count   72.000000       72.000000\n",
       "mean     0.833333        1.569444\n",
       "std      1.342690        1.758892\n",
       "min      0.000000        0.000000\n",
       "25%      0.000000        0.000000\n",
       "50%      0.000000        1.000000\n",
       "75%      1.000000        2.000000\n",
       "max      8.000000       12.000000"
      ]
     },
     "execution_count": 6,
     "metadata": {},
     "output_type": "execute_result"
    }
   ],
   "source": [
    "data.describe()"
   ]
  },
  {
   "cell_type": "code",
   "execution_count": 7,
   "id": "084522fc-9b7a-40ce-b07f-d4e44eadb94c",
   "metadata": {},
   "outputs": [
    {
     "name": "stdout",
     "output_type": "stream",
     "text": [
      "<class 'pandas.core.frame.DataFrame'>\n",
      "RangeIndex: 73 entries, 0 to 72\n",
      "Data columns (total 7 columns):\n",
      " #   Column          Non-Null Count  Dtype  \n",
      "---  ------          --------------  -----  \n",
      " 0   Date            73 non-null     object \n",
      " 1   Opponent        73 non-null     object \n",
      " 2   Team Score      72 non-null     float64\n",
      " 3   Opponent Score  72 non-null     float64\n",
      " 4   Result          73 non-null     object \n",
      " 5   Venue           73 non-null     object \n",
      " 6   Competition     73 non-null     object \n",
      "dtypes: float64(2), object(5)\n",
      "memory usage: 4.1+ KB\n"
     ]
    }
   ],
   "source": [
    "data.info()"
   ]
  },
  {
   "cell_type": "code",
   "execution_count": null,
   "id": "236d8c2d-8783-4500-acd3-593544efb2a3",
   "metadata": {},
   "outputs": [],
   "source": []
  }
 ],
 "metadata": {
  "kernelspec": {
   "display_name": "Python 3 (ipykernel)",
   "language": "python",
   "name": "python3"
  },
  "language_info": {
   "codemirror_mode": {
    "name": "ipython",
    "version": 3
   },
   "file_extension": ".py",
   "mimetype": "text/x-python",
   "name": "python",
   "nbconvert_exporter": "python",
   "pygments_lexer": "ipython3",
   "version": "3.12.7"
  }
 },
 "nbformat": 4,
 "nbformat_minor": 5
}
